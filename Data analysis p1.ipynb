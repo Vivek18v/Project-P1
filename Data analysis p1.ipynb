{
 "cells": [
  {
   "cell_type": "code",
   "execution_count": 1,
   "metadata": {},
   "outputs": [],
   "source": [
    "import pandas as pd"
   ]
  },
  {
   "cell_type": "code",
   "execution_count": 2,
   "metadata": {},
   "outputs": [
    {
     "name": "stdout",
     "output_type": "stream",
     "text": [
      "      order_id  customer_id     customer_name  product_id product_name  \\\n",
      "0            1          211   Christine Giles         293         Dark   \n",
      "1            2          905        Amy Mendez         288           Up   \n",
      "2            3          542     Kristy Bailey         265       Course   \n",
      "3            4          738       Juan Arnold         252        Phone   \n",
      "4            5          864     Taylor Barker         219         Body   \n",
      "...        ...          ...               ...         ...          ...   \n",
      "9995      9996          868     Michael Huang         244          NaN   \n",
      "9996      9997          423       Brooke Pena         264        Exist   \n",
      "9997      9998          745      Grace Atkins         203   Experience   \n",
      "9998      9999          943  Annette Hamilton         279        Level   \n",
      "9999     10000          220   Benjamin Wright         215      Provide   \n",
      "\n",
      "     product_category      payment_type  qty   price          datetime  \\\n",
      "0          Stationery            Wallet    9   49.32  2024-01-07 19:19   \n",
      "1               Books              Card    6  964.57  2024-02-24 03:29   \n",
      "2               Books              Card    8  743.25  2024-02-05 18:22   \n",
      "3               Books               UPI    7  433.70  2024-06-21 14:49   \n",
      "4            Clothing  Internet Banking    4  821.24  2024-05-16 21:45   \n",
      "...               ...               ...  ...     ...               ...   \n",
      "9995            Books  Internet Banking    8  690.36  2024-02-08 03:38   \n",
      "9996       Stationery  Internet Banking   10  571.90  2024-01-18 08:22   \n",
      "9997      Electronics  Internet Banking    2  137.97  2024-02-10 12:56   \n",
      "9998            Books            Wallet    3  510.46  2024-01-25 21:03   \n",
      "9999      Electronics            Wallet    1  263.87  2024-02-11 17:15   \n",
      "\n",
      "      country        city ecommerce_website_name payment_txn_id  \\\n",
      "0         USA     Houston       www.tatacliq.com       cf144965   \n",
      "1         USA     Chicago            www.ebay.in       170bb9ea   \n",
      "2     Germany   Frankfurt       www.snapdeal.com       7b94c130   \n",
      "3          UK  Birmingham       www.tatacliq.com       39afcf00   \n",
      "4         USA     Chicago       www.snapdeal.com       07ebeeb6   \n",
      "...       ...         ...                    ...            ...   \n",
      "9995       UK       Leeds         www.amazon.com       d6a0ce98   \n",
      "9996  Germany   Stuttgart       www.snapdeal.com       097d5d30   \n",
      "9997       UK  Manchester            www.ebay.in       16ee69d0   \n",
      "9998       UK       Leeds            www.ebay.in       6c1d334f   \n",
      "9999       UK  Manchester       www.tatacliq.com       03fb695d   \n",
      "\n",
      "     payment_txn_success failure_reason  \n",
      "0                      N   Blocked Card  \n",
      "1                      N   Card Expired  \n",
      "2                      Y            NaN  \n",
      "3                      Y            NaN  \n",
      "4                      Y            NaN  \n",
      "...                  ...            ...  \n",
      "9995                   N   Blocked Card  \n",
      "9996                   N   Card Expired  \n",
      "9997                   N   Blocked Card  \n",
      "9998                   Y            NaN  \n",
      "9999                   Y            NaN  \n",
      "\n",
      "[10000 rows x 16 columns]\n"
     ]
    }
   ],
   "source": [
    "# Load the dataset\n",
    "data = pd.read_csv('ecommerce_data.csv')\n",
    "print(data)"
   ]
  },
  {
   "cell_type": "code",
   "execution_count": 3,
   "metadata": {},
   "outputs": [
    {
     "name": "stdout",
     "output_type": "stream",
     "text": [
      "Top Selling Category Per Country with Total Revenue (Sorted by Revenue):\n",
      "        Top Selling Category  Total Revenue\n",
      "country                                    \n",
      "USA               Stationery  $1,609,026.03\n",
      "India                  Books  $1,530,295.33\n",
      "UK                      Toys  $1,462,403.14\n",
      "Germany             Clothing  $1,427,551.99\n"
     ]
    }
   ],
   "source": [
    "# First, calculate the total revenue for each country and product category\n",
    "data['revenue'] = data['qty'] * data['price']  # Ensure revenue is calculated\n",
    "total_revenue = data.groupby(['country', 'product_category'])['revenue'].sum().unstack()\n",
    "\n",
    "# Find the top-selling category per country based on revenue\n",
    "top_categories = total_revenue.idxmax(axis=1)\n",
    "\n",
    "# Get the total revenue of the top-selling category per country\n",
    "top_revenue = total_revenue.max(axis=1)\n",
    "\n",
    "# Format revenue as currency (with $ symbol)\n",
    "top_revenue_formatted = top_revenue.apply(lambda x: f\"${x:,.2f}\")\n",
    "\n",
    "# Combine the top-selling category with its total revenue\n",
    "top_categories_revenue = pd.DataFrame({\n",
    "    'Top Selling Category': top_categories,\n",
    "    'Total Revenue': top_revenue_formatted\n",
    "})\n",
    "\n",
    "# Sort by total revenue in descending order\n",
    "top_categories_revenue_sorted = top_categories_revenue.sort_values(by='Total Revenue', ascending=False, key=lambda x: top_revenue)\n",
    "\n",
    "print(\"Top Selling Category Per Country with Total Revenue (Sorted by Revenue):\")\n",
    "print(top_categories_revenue_sorted)\n"
   ]
  },
  {
   "cell_type": "code",
   "execution_count": 4,
   "metadata": {},
   "outputs": [
    {
     "name": "stdout",
     "output_type": "stream",
     "text": [
      "Product Popularity Change Throughout the Year Per Country (by Quantity):\n",
      "product_category  Books  Clothing  Electronics  Stationery  Toys\n",
      "country month                                                   \n",
      "Germany 1           188       192          232         177   226\n",
      "        2           253       220          271         236   152\n",
      "        3           265       236          283         188   239\n",
      "        4           222       276          220         239   234\n",
      "        5           160       287          221         312   212\n",
      "        6           145       261          211         240   222\n",
      "        7           247       283          208         229   160\n",
      "        8           242       183          239         196   195\n",
      "        9           249       247          158         159   234\n",
      "        10          181       202          239         278   146\n",
      "        11          299       218          170         247   235\n",
      "        12          144       247          259         251   168\n",
      "India   1           318       304          224         181   203\n",
      "        2           264       194          232         177   228\n",
      "        3           292       173          266         228   279\n",
      "        4           183       157          168         270   206\n",
      "        5           379       256          217         244   326\n",
      "        6           208       234          316         230   207\n",
      "        7           246       222          268         241   277\n",
      "        8           192       211          194         225   269\n",
      "        9           235       197          244         219   240\n",
      "        10          208       224          219         238   205\n",
      "        11          242       160          135         232   216\n",
      "        12          219       222          295         289   301\n",
      "UK      1           293       239          187         266   287\n",
      "        2           231       241          248         217   209\n",
      "        3           241       210          219         220   247\n",
      "        4           181       263          121         203   176\n",
      "        5           290       306          208         188   254\n",
      "        6           217       259          258         253   193\n",
      "        7           254       247          215         170   249\n",
      "        8           176       210          258         286   238\n",
      "        9           194       232          286         184   240\n",
      "        10          220       199          189         196   263\n",
      "        11          218       209          179         301   215\n",
      "        12          254       234          226         256   317\n",
      "USA     1           255       194          198         266   231\n",
      "        2           247       242          217         252   210\n",
      "        3           236       289          213         371   326\n",
      "        4           245       260          191         225   210\n",
      "        5           180       184          206         221   196\n",
      "        6           229       261          210         267   227\n",
      "        7           268       216          211         173   288\n",
      "        8           267       262          251         234   342\n",
      "        9           223       257          201         243   150\n",
      "        10          232       194          322         280   239\n",
      "        11          243       240          203         178   292\n",
      "        12          328       206          259         243   163\n"
     ]
    }
   ],
   "source": [
    "# Product Popularity Change Throughout the Year Per Country\n",
    "data['month'] = pd.to_datetime(data['datetime']).dt.month\n",
    "\n",
    "# Group by 'country', 'month', and 'product_category' and sum the 'qty' (quantity)\n",
    "popularity_trends = data.groupby(['country', 'month', 'product_category'])['qty'].sum().unstack()\n",
    "\n",
    "# Print the result\n",
    "print(\"Product Popularity Change Throughout the Year Per Country (by Quantity):\")\n",
    "print(popularity_trends)\n"
   ]
  },
  {
   "cell_type": "code",
   "execution_count": 5,
   "metadata": {},
   "outputs": [
    {
     "name": "stdout",
     "output_type": "stream",
     "text": [
      "Locations with Highest Traffic of Sales:\n",
      "city\n",
      "Kolkata       542\n",
      "Chicago       530\n",
      "New York      527\n",
      "Houston       516\n",
      "Manchester    516\n",
      "London        515\n",
      "Delhi         514\n",
      "Hamburg       506\n",
      "Oxford        506\n",
      "Berlin        506\n",
      "Name: count, dtype: int64\n"
     ]
    }
   ],
   "source": [
    "# Locations with the Highest Traffic of Sales\n",
    "high_traffic_cities = data['city'].value_counts().head(10)\n",
    "print(\"Locations with Highest Traffic of Sales:\")\n",
    "print(high_traffic_cities)"
   ]
  },
  {
   "cell_type": "code",
   "execution_count": 6,
   "metadata": {},
   "outputs": [
    {
     "name": "stdout",
     "output_type": "stream",
     "text": [
      "Times with Highest Traffic of Sales Per Country:\n",
      "hour      0    1    2    3    4    5    6    7    8    9    10   11   12   13  \\\n",
      "country                                                                         \n",
      "Germany   88  102   85  105  110  104   99  101   95  101   93   69  106  124   \n",
      "India    105  102   85   99  116   84  116  106   97  105  115  107  111   98   \n",
      "UK        96  112  109   96  104  110  110  118  102   98  111  109  107  108   \n",
      "USA      128  113  111  107  111  100  104  114   95  101  110  124  101  107   \n",
      "\n",
      "hour      14   15   16   17   18   19  20   21   22   23  \n",
      "country                                                   \n",
      "Germany  108  104  106   97  109   94  91  107   98  114  \n",
      "India    108   94  106  107  110  120  92  107   95  111  \n",
      "UK       105  110  114  114  116   89  86  104   93  103  \n",
      "USA      112  105  125   98   96   92  90  117  103  106  \n"
     ]
    }
   ],
   "source": [
    "# Times with the Highest Traffic of Sales Per Country\n",
    "\n",
    "# Set display options to avoid truncation\n",
    "pd.set_option('display.max_rows', None)  # Show all rows\n",
    "pd.set_option('display.max_columns', None)  # Show all columns\n",
    "pd.set_option('display.width', None)  # Ensure wide DataFrames are not wrapped\n",
    "pd.set_option('display.max_colwidth', None)  # Display entire content of each column\n",
    "\n",
    "data['hour'] = pd.to_datetime(data['datetime']).dt.hour\n",
    "traffic_by_time = data.groupby(['country', 'hour']).size().unstack()\n",
    "print(\"Times with Highest Traffic of Sales Per Country:\")\n",
    "print(traffic_by_time)"
   ]
  },
  {
   "cell_type": "code",
   "execution_count": null,
   "metadata": {},
   "outputs": [],
   "source": []
  }
 ],
 "metadata": {
  "kernelspec": {
   "display_name": "Python 3",
   "language": "python",
   "name": "python3"
  },
  "language_info": {
   "codemirror_mode": {
    "name": "ipython",
    "version": 3
   },
   "file_extension": ".py",
   "mimetype": "text/x-python",
   "name": "python",
   "nbconvert_exporter": "python",
   "pygments_lexer": "ipython3",
   "version": "3.10.1"
  }
 },
 "nbformat": 4,
 "nbformat_minor": 2
}
