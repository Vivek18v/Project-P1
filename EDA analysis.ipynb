{
 "cells": [
  {
   "cell_type": "code",
   "execution_count": 1,
   "id": "644197f0-ba82-44b7-809e-bb2e1db9d07b",
   "metadata": {},
   "outputs": [],
   "source": [
    "import pandas as pd"
   ]
  },
  {
   "cell_type": "code",
   "execution_count": 2,
   "id": "97c554ae-c285-457c-9ca8-932a81cf98d6",
   "metadata": {},
   "outputs": [
    {
     "name": "stdout",
     "output_type": "stream",
     "text": [
      "      order_id  customer_id      customer_name  product_id product_name  \\\n",
      "0            1          137     Brandon Ortega         263    Determine   \n",
      "1            2          366  Linda Jackson DDS         248      Clearly   \n",
      "2            3          697      Bradley James         287       Simply   \n",
      "3            4          224      Samantha Vega         288            A   \n",
      "4            5          679        Lauren Boyd         237     Analysis   \n",
      "...        ...          ...                ...         ...          ...   \n",
      "9995      9996          389       Jake Pittman         241         Upon   \n",
      "9996      9997          831     Melissa Guerra         249         Life   \n",
      "9997      9998          116  Mackenzie Roberts         203          Any   \n",
      "9998      9999          388  Joseph Hutchinson         217       Always   \n",
      "9999     10000          143  Stephanie Goodwin         255        Skill   \n",
      "\n",
      "     product_category      payment_type  qty   price          datetime  \\\n",
      "0            Clothing  Internet Banking    7  459.64  2023-10-03 22:27   \n",
      "1               Books              Card   10  319.60  2024-03-20 08:43   \n",
      "2         Electronics               UPI    6  221.97  2024-04-14 09:48   \n",
      "3          Stationery            Wallet    2  900.27  2024-09-13 03:30   \n",
      "4                Toys              Card    3  950.21  2024-01-08 03:56   \n",
      "...               ...               ...  ...     ...               ...   \n",
      "9995      Electronics            Wallet   10  205.26  2023-10-14 12:26   \n",
      "9996             Toys               UPI    3  308.42  2024-08-24 07:34   \n",
      "9997         Clothing            Wallet    1  689.10  2024-07-16 19:23   \n",
      "9998         Clothing            Wallet    2  531.82  2024-03-24 06:06   \n",
      "9999            Books              Card    6   41.79  2024-06-16 18:57   \n",
      "\n",
      "      country        city ecommerce_website_name payment_txn_id  \\\n",
      "0     Germany      Munich       www.flipkart.com       a8c98e06   \n",
      "1       India     Kolkata       www.flipkart.com       8228f9a7   \n",
      "2       India       Delhi         www.amazon.com       ae326907   \n",
      "3          UK  Manchester            www.ebay.in       8ab4b616   \n",
      "4     Germany      Munich       www.snapdeal.com       a15e22fc   \n",
      "...       ...         ...                    ...            ...   \n",
      "9995       UK       Leeds       www.tatacliq.com       f07bdce4   \n",
      "9996    India   Bengaluru       www.flipkart.com       f5af3620   \n",
      "9997    India       Delhi       www.snapdeal.com       30834eb1   \n",
      "9998  Germany   Frankfurt       www.tatacliq.com       6ef08ab1   \n",
      "9999       UK      London         www.amazon.com       7f2d8939   \n",
      "\n",
      "     payment_txn_success       failure_reason  \n",
      "0                      Y                  NaN  \n",
      "1                      N         Blocked Card  \n",
      "2                      N  Transaction Timeout  \n",
      "3                      Y                  NaN  \n",
      "4                      N  Transaction Timeout  \n",
      "...                  ...                  ...  \n",
      "9995                   Y                  NaN  \n",
      "9996                   N         Card Expired  \n",
      "9997                   N  Transaction Timeout  \n",
      "9998                   N  Transaction Timeout  \n",
      "9999                   N         Blocked Card  \n",
      "\n",
      "[10000 rows x 16 columns]\n"
     ]
    }
   ],
   "source": [
    "# Load the dataset\n",
    "data = pd.read_csv('ecommerce_data.csv')\n",
    "print(data)"
   ]
  },
  {
   "cell_type": "code",
   "execution_count": 3,
   "id": "26259af7-d39d-4d79-9106-006b0299a02b",
   "metadata": {},
   "outputs": [
    {
     "name": "stdout",
     "output_type": "stream",
     "text": [
      "   order_id  customer_id      customer_name  product_id product_name  \\\n",
      "0         1          137     Brandon Ortega         263    Determine   \n",
      "1         2          366  Linda Jackson DDS         248      Clearly   \n",
      "2         3          697      Bradley James         287       Simply   \n",
      "3         4          224      Samantha Vega         288            A   \n",
      "4         5          679        Lauren Boyd         237     Analysis   \n",
      "\n",
      "  product_category      payment_type  qty   price          datetime  country  \\\n",
      "0         Clothing  Internet Banking    7  459.64  2023-10-03 22:27  Germany   \n",
      "1            Books              Card   10  319.60  2024-03-20 08:43    India   \n",
      "2      Electronics               UPI    6  221.97  2024-04-14 09:48    India   \n",
      "3       Stationery            Wallet    2  900.27  2024-09-13 03:30       UK   \n",
      "4             Toys              Card    3  950.21  2024-01-08 03:56  Germany   \n",
      "\n",
      "         city ecommerce_website_name payment_txn_id payment_txn_success  \\\n",
      "0      Munich       www.flipkart.com       a8c98e06                   Y   \n",
      "1     Kolkata       www.flipkart.com       8228f9a7                   N   \n",
      "2       Delhi         www.amazon.com       ae326907                   N   \n",
      "3  Manchester            www.ebay.in       8ab4b616                   Y   \n",
      "4      Munich       www.snapdeal.com       a15e22fc                   N   \n",
      "\n",
      "        failure_reason  \n",
      "0                  NaN  \n",
      "1         Blocked Card  \n",
      "2  Transaction Timeout  \n",
      "3                  NaN  \n",
      "4  Transaction Timeout  \n"
     ]
    }
   ],
   "source": [
    "# Display the first few rows\n",
    "print(data.head())"
   ]
  },
  {
   "cell_type": "code",
   "execution_count": 4,
   "id": "77889045-a714-4a3e-b1d7-5fa3a10d7e3a",
   "metadata": {},
   "outputs": [
    {
     "name": "stdout",
     "output_type": "stream",
     "text": [
      "<class 'pandas.core.frame.DataFrame'>\n",
      "RangeIndex: 10000 entries, 0 to 9999\n",
      "Data columns (total 16 columns):\n",
      " #   Column                  Non-Null Count  Dtype  \n",
      "---  ------                  --------------  -----  \n",
      " 0   order_id                10000 non-null  int64  \n",
      " 1   customer_id             10000 non-null  int64  \n",
      " 2   customer_name           10000 non-null  object \n",
      " 3   product_id              10000 non-null  int64  \n",
      " 4   product_name            9985 non-null   object \n",
      " 5   product_category        10000 non-null  object \n",
      " 6   payment_type            10000 non-null  object \n",
      " 7   qty                     10000 non-null  int64  \n",
      " 8   price                   10000 non-null  float64\n",
      " 9   datetime                10000 non-null  object \n",
      " 10  country                 10000 non-null  object \n",
      " 11  city                    10000 non-null  object \n",
      " 12  ecommerce_website_name  10000 non-null  object \n",
      " 13  payment_txn_id          10000 non-null  object \n",
      " 14  payment_txn_success     10000 non-null  object \n",
      " 15  failure_reason          4930 non-null   object \n",
      "dtypes: float64(1), int64(4), object(11)\n",
      "memory usage: 1.2+ MB\n",
      "None\n"
     ]
    }
   ],
   "source": [
    "# Display the data types and missing values\n",
    "print(data.info())"
   ]
  },
  {
   "cell_type": "code",
   "execution_count": 5,
   "id": "2a2267e8-c6df-4a80-ac3a-c569f3359e67",
   "metadata": {},
   "outputs": [
    {
     "name": "stdout",
     "output_type": "stream",
     "text": [
      "          order_id   customer_id    product_id           qty         price\n",
      "count  10000.00000  10000.000000  10000.000000  10000.000000  10000.000000\n",
      "mean    5000.50000    549.497900    249.397900      5.485300    498.706145\n",
      "std     2886.89568    260.337794     28.731358      2.877153    288.866360\n",
      "min        1.00000    100.000000    200.000000      1.000000      5.340000\n",
      "25%     2500.75000    320.000000    224.000000      3.000000    247.255000\n",
      "50%     5000.50000    550.500000    249.000000      5.000000    493.760000\n",
      "75%     7500.25000    774.000000    274.000000      8.000000    748.352500\n",
      "max    10000.00000    999.000000    299.000000     10.000000    999.980000\n"
     ]
    }
   ],
   "source": [
    "# Summary statistics for numerical columns\n",
    "print(data.describe())"
   ]
  },
  {
   "cell_type": "code",
   "execution_count": 6,
   "id": "75aa4f2f-729b-4037-977a-75b46c910227",
   "metadata": {},
   "outputs": [
    {
     "name": "stdout",
     "output_type": "stream",
     "text": [
      "order_id                    int64\n",
      "customer_id                 int64\n",
      "customer_name              object\n",
      "product_id                  int64\n",
      "product_name               object\n",
      "product_category           object\n",
      "payment_type               object\n",
      "qty                         int64\n",
      "price                     float64\n",
      "datetime                   object\n",
      "country                    object\n",
      "city                       object\n",
      "ecommerce_website_name     object\n",
      "payment_txn_id             object\n",
      "payment_txn_success        object\n",
      "failure_reason             object\n",
      "dtype: object\n"
     ]
    }
   ],
   "source": [
    "# checking the data types of each column\n",
    "print(data.dtypes)"
   ]
  },
  {
   "cell_type": "code",
   "execution_count": 7,
   "id": "cd0b2aa3-21a0-4b99-a506-10f04e6b7f48",
   "metadata": {},
   "outputs": [
    {
     "name": "stdout",
     "output_type": "stream",
     "text": [
      "order_id                     0\n",
      "customer_id                  0\n",
      "customer_name                0\n",
      "product_id                   0\n",
      "product_name                15\n",
      "product_category             0\n",
      "payment_type                 0\n",
      "qty                          0\n",
      "price                        0\n",
      "datetime                     0\n",
      "country                      0\n",
      "city                         0\n",
      "ecommerce_website_name       0\n",
      "payment_txn_id               0\n",
      "payment_txn_success          0\n",
      "failure_reason            5070\n",
      "dtype: int64\n"
     ]
    }
   ],
   "source": [
    "# Check for missing values\n",
    "print(data.isnull().sum())"
   ]
  },
  {
   "cell_type": "code",
   "execution_count": 8,
   "id": "d0318121-1980-44f7-8b12-cde9661727aa",
   "metadata": {},
   "outputs": [
    {
     "name": "stdout",
     "output_type": "stream",
     "text": [
      "Inserted the values for product nulls\n"
     ]
    }
   ],
   "source": [
    "#Filling the null values \n",
    "data = data.assign(product_name = data['product_name'].fillna('Unknown Product'))\n",
    "print(\"Inserted the values for product nulls\")"
   ]
  },
  {
   "cell_type": "code",
   "execution_count": 9,
   "id": "2cbbc4a8-8b67-47a0-9e07-4dd2fc0b450d",
   "metadata": {},
   "outputs": [
    {
     "name": "stdout",
     "output_type": "stream",
     "text": [
      "Inserted the values for successful payment nulls\n"
     ]
    }
   ],
   "source": [
    "condition = (data['payment_txn_success'] == 'Y') & (data['failure_reason'].isnull())\n",
    "data.loc[condition, 'failure_reason'] = 'Payment_successful'\n",
    "print(\"Inserted the values for successful payment nulls\")"
   ]
  },
  {
   "cell_type": "code",
   "execution_count": 10,
   "id": "46c77385-0509-4af9-b2f9-894ce4085b81",
   "metadata": {},
   "outputs": [
    {
     "name": "stdout",
     "output_type": "stream",
     "text": [
      "   order_id  customer_id      customer_name  product_id product_name  \\\n",
      "0         1          137     Brandon Ortega         263    Determine   \n",
      "1         2          366  Linda Jackson DDS         248      Clearly   \n",
      "2         3          697      Bradley James         287       Simply   \n",
      "3         4          224      Samantha Vega         288            A   \n",
      "4         5          679        Lauren Boyd         237     Analysis   \n",
      "\n",
      "  product_category      payment_type  qty   price          datetime  country  \\\n",
      "0         Clothing  Internet Banking    7  459.64  2023-10-03 22:27  Germany   \n",
      "1            Books              Card   10  319.60  2024-03-20 08:43    India   \n",
      "2      Electronics               UPI    6  221.97  2024-04-14 09:48    India   \n",
      "3       Stationery            Wallet    2  900.27  2024-09-13 03:30       UK   \n",
      "4             Toys              Card    3  950.21  2024-01-08 03:56  Germany   \n",
      "\n",
      "         city ecommerce_website_name payment_txn_id payment_txn_success  \\\n",
      "0      Munich       www.flipkart.com       a8c98e06                   Y   \n",
      "1     Kolkata       www.flipkart.com       8228f9a7                   N   \n",
      "2       Delhi         www.amazon.com       ae326907                   N   \n",
      "3  Manchester            www.ebay.in       8ab4b616                   Y   \n",
      "4      Munich       www.snapdeal.com       a15e22fc                   N   \n",
      "\n",
      "        failure_reason  \n",
      "0   Payment_successful  \n",
      "1         Blocked Card  \n",
      "2  Transaction Timeout  \n",
      "3   Payment_successful  \n",
      "4  Transaction Timeout  \n"
     ]
    }
   ],
   "source": [
    "print(data.head())"
   ]
  },
  {
   "cell_type": "code",
   "execution_count": 11,
   "id": "af25cfdc-bac6-4fea-b872-7237aa587812",
   "metadata": {},
   "outputs": [
    {
     "name": "stdout",
     "output_type": "stream",
     "text": [
      "order_id                  0\n",
      "customer_id               0\n",
      "customer_name             0\n",
      "product_id                0\n",
      "product_name              0\n",
      "product_category          0\n",
      "payment_type              0\n",
      "qty                       0\n",
      "price                     0\n",
      "datetime                  0\n",
      "country                   0\n",
      "city                      0\n",
      "ecommerce_website_name    0\n",
      "payment_txn_id            0\n",
      "payment_txn_success       0\n",
      "failure_reason            0\n",
      "dtype: int64\n"
     ]
    }
   ],
   "source": [
    "# Check for missing values\n",
    "print(data.isnull().sum())"
   ]
  },
  {
   "cell_type": "code",
   "execution_count": 12,
   "id": "006746ce-4dcb-4595-a6db-63df6968143e",
   "metadata": {},
   "outputs": [
    {
     "name": "stdout",
     "output_type": "stream",
     "text": [
      "0\n"
     ]
    }
   ],
   "source": [
    "# Check for duplicates\n",
    "print(data.duplicated().sum())"
   ]
  },
  {
   "cell_type": "code",
   "execution_count": null,
   "id": "b4d938d9-5106-41a1-9cb1-db1bcab4def0",
   "metadata": {},
   "outputs": [],
   "source": []
  }
 ],
 "metadata": {
  "kernelspec": {
   "display_name": "Python 3 (ipykernel)",
   "language": "python",
   "name": "python3"
  },
  "language_info": {
   "codemirror_mode": {
    "name": "ipython",
    "version": 3
   },
   "file_extension": ".py",
   "mimetype": "text/x-python",
   "name": "python",
   "nbconvert_exporter": "python",
   "pygments_lexer": "ipython3",
   "version": "3.10.1"
  }
 },
 "nbformat": 4,
 "nbformat_minor": 5
}
