{
 "cells": [
  {
   "cell_type": "code",
   "execution_count": 1,
   "metadata": {},
   "outputs": [],
   "source": [
    "import csv\n",
    "import random\n",
    "from faker import Faker\n",
    "from datetime import datetime"
   ]
  },
  {
   "cell_type": "code",
   "execution_count": 2,
   "metadata": {},
   "outputs": [],
   "source": [
    "# Initialize Faker\n",
    "fake = Faker()  "
   ]
  },
  {
   "cell_type": "code",
   "execution_count": 3,
   "metadata": {},
   "outputs": [],
   "source": [
    "# Define the schema fields\n",
    "fields = [\n",
    "    'order_id', 'customer_id', 'customer_name', 'product_id', 'product_name',\n",
    "    'product_category', 'payment_type', 'qty', 'price', 'datetime', 'country',\n",
    "    'city', 'ecommerce_website_name', 'payment_txn_id', 'payment_txn_success',\n",
    "    'failure_reason'\n",
    "]"
   ]
  },
  {
   "cell_type": "code",
   "execution_count": 4,
   "metadata": {},
   "outputs": [],
   "source": [
    "# Define sample data\n",
    "product_categories = ['Stationery', 'Electronics', 'Books', 'Clothing', 'Toys']\n",
    "payment_types = ['Card', 'Internet Banking', 'UPI', 'Wallet']\n",
    "countries = {\n",
    "    'India': ['Mumbai', 'Delhi', 'Bengaluru', 'Chennai', 'Kolkata'],\n",
    "    'USA': ['New York', 'Los Angeles', 'Chicago', 'Houston', 'Boston'],\n",
    "    'UK': ['London', 'Manchester', 'Birmingham', 'Leeds', 'Oxford'],\n",
    "    'Germany': ['Berlin', 'Munich', 'Frankfurt', 'Hamburg', 'Stuttgart']\n",
    "}\n",
    "websites = ['www.amazon.com', 'www.flipkart.com', 'www.ebay.in', 'www.tatacliq.com', 'www.snapdeal.com']\n",
    "failures = ['Card Expired' , 'Blocked Card' , 'Transaction Timeout']\n"
   ]
  },
  {
   "cell_type": "code",
   "execution_count": 5,
   "metadata": {},
   "outputs": [],
   "source": [
    "# Function to generate a single record\n",
    "def generate_record(order_id):\n",
    "    customer_id = random.randint(100, 999)\n",
    "    customer_name = fake.name()\n",
    "    product_id = random.randint(200, 299)\n",
    "    product_name = fake.word().capitalize()\n",
    "    product_category = random.choice(product_categories)\n",
    "    payment_type = random.choice(payment_types)\n",
    "    qty = random.randint(1, 10)\n",
    "    price = round(random.uniform(5.0, 1000.0), 2)\n",
    "    order_datetime = fake.date_time_between(start_date='-1y', end_date='now').strftime(\"%Y-%m-%d %H:%M\")\n",
    "    country = random.choice(list(countries.keys()))\n",
    "    city = random.choice(countries[country])\n",
    "    ecommerce_website_name = random.choice(websites)\n",
    "    payment_txn_id = fake.uuid4().split('-')[0]\n",
    "    payment_txn_success = random.choice(['Y', 'N'])\n",
    "    failure_reason = \"\" if payment_txn_success == 'Y' else random.choice(failures)\n",
    "\n",
    "    return [\n",
    "        order_id, customer_id, customer_name, product_id, product_name,\n",
    "        product_category, payment_type, qty, price, order_datetime, country,\n",
    "        city, ecommerce_website_name, payment_txn_id, payment_txn_success,\n",
    "        failure_reason\n",
    "    ]"
   ]
  },
  {
   "cell_type": "code",
   "execution_count": 6,
   "metadata": {},
   "outputs": [
    {
     "name": "stdout",
     "output_type": "stream",
     "text": [
      "Data generation complete. The file 'ecommerce_data.csv' has been created.\n"
     ]
    }
   ],
   "source": [
    "# Generate 10,000 records and write to CSV\n",
    "with open('ecommerce_data.csv', 'w', newline='') as file:\n",
    "    writer = csv.writer(file)\n",
    "    writer.writerow(fields)  # Write the header\n",
    "    for order_id in range(1, 10001):\n",
    "        writer.writerow(generate_record(order_id))\n",
    "\n",
    "print(\"Data generation complete. The file 'ecommerce_data.csv' has been created.\") "
   ]
  },
  {
   "cell_type": "code",
   "execution_count": null,
   "metadata": {},
   "outputs": [],
   "source": []
  }
 ],
 "metadata": {
  "kernelspec": {
   "display_name": "Python 3",
   "language": "python",
   "name": "python3"
  },
  "language_info": {
   "codemirror_mode": {
    "name": "ipython",
    "version": 3
   },
   "file_extension": ".py",
   "mimetype": "text/x-python",
   "name": "python",
   "nbconvert_exporter": "python",
   "pygments_lexer": "ipython3",
   "version": "3.10.1"
  }
 },
 "nbformat": 4,
 "nbformat_minor": 2
}
